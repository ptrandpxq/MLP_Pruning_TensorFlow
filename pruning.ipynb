{
 "cells": [
  {
   "cell_type": "code",
   "execution_count": 69,
   "metadata": {},
   "outputs": [
    {
     "data": {
      "text/plain": [
       "'1.15.0'"
      ]
     },
     "execution_count": 69,
     "metadata": {},
     "output_type": "execute_result"
    }
   ],
   "source": [
    "import tensorflow as tf\n",
    "from matplotlib import pyplot as plt\n",
    "import numpy as np\n",
    "from typing import Union\n",
    "tf.__version__"
   ]
  },
  {
   "cell_type": "code",
   "execution_count": 70,
   "metadata": {
    "scrolled": false
   },
   "outputs": [],
   "source": [
    "from tensorflow.examples.tutorials.mnist import input_data"
   ]
  },
  {
   "cell_type": "code",
   "execution_count": 71,
   "metadata": {},
   "outputs": [],
   "source": [
    "# Function that draw a weight ditribution plot\n",
    "def plot_histogram(weights_list: list,\n",
    "                   image_name: str,\n",
    "                   include_zeros=True):\n",
    "\n",
    "    \"\"\"A function to plot weights distribution\"\"\"\n",
    "\n",
    "    weights = []\n",
    "    for w in weights_list:\n",
    "        weights.extend(list(w.ravel()))\n",
    "\n",
    "    if not include_zeros:\n",
    "        weights = [w for w in weights if w != 0]\n",
    "\n",
    "    fig = plt.figure(figsize=(10, 7))\n",
    "    ax = fig.add_subplot(111)\n",
    "\n",
    "    ax.hist(weights,\n",
    "            bins=300,\n",
    "            facecolor='green',\n",
    "            edgecolor='green',\n",
    "            alpha=0.7,\n",
    "            range=(-0.3, 0.3))\n",
    "\n",
    "    ax.set_title('Weight distribution')\n",
    "    ax.set_xlabel('Values of weights')\n",
    "    ax.set_ylabel('Number of weights')\n",
    "    \n",
    "    plt.show()\n",
    "#     fig.savefig(image_name + '.png')\n",
    "\n",
    "def number_of_parameters(var_list):\n",
    "    return sum(np.prod(v.get_shape().as_list()) for v in var_list)\n",
    "\n",
    "def mask_for_big_values(weights, pruning_threshold):\n",
    "\n",
    "    small_weights = np.abs(weights) < pruning_threshold\n",
    "    return np.logical_not(small_weights)"
   ]
  },
  {
   "cell_type": "code",
   "execution_count": 72,
   "metadata": {},
   "outputs": [
    {
     "name": "stdout",
     "output_type": "stream",
     "text": [
      "Extracting MNIST_data/train-images-idx3-ubyte.gz\n",
      "Extracting MNIST_data/train-labels-idx1-ubyte.gz\n",
      "Extracting MNIST_data/t10k-images-idx3-ubyte.gz\n",
      "Extracting MNIST_data/t10k-labels-idx1-ubyte.gz\n"
     ]
    }
   ],
   "source": [
    "mnist = input_data.read_data_sets('MNIST_data',one_hot=True)"
   ]
  },
  {
   "cell_type": "code",
   "execution_count": 73,
   "metadata": {
    "scrolled": false
   },
   "outputs": [
    {
     "name": "stdout",
     "output_type": "stream",
     "text": [
      "Number of parameters: 227670.\n",
      "\n",
      "Test set accuracy before training:  0.101\n",
      "Epoch 1\n",
      "Test set accuracy:  0.9454\n",
      "Epoch 2\n",
      "Test set accuracy:  0.9548\n",
      "Epoch 3\n",
      "Test set accuracy:  0.9656\n",
      "Epoch 4\n",
      "Test set accuracy:  0.9693\n",
      "Epoch 5\n",
      "Test set accuracy:  0.9722\n",
      "Epoch 6\n",
      "Test set accuracy:  0.9748\n",
      "Epoch 7\n",
      "Test set accuracy:  0.9748\n",
      "Epoch 8\n",
      "Test set accuracy:  0.9766\n",
      "------------------------------After training without pruning--------------------------------\n"
     ]
    },
    {
     "data": {
      "image/png": "[encoded data removed]",
      "text/plain": [
       "<Figure size 720x504 with 1 Axes>"
      ]
     },
     "metadata": {
      "needs_background": "light"
     },
     "output_type": "display_data"
    },
    {
     "name": "stdout",
     "output_type": "stream",
     "text": [
      "------------------------------After pruning--------------------------------\n"
     ]
    },
    {
     "data": {
      "image/png": "[encoded data removed]",
      "text/plain": [
       "<Figure size 720x504 with 1 Axes>"
      ]
     },
     "metadata": {
      "needs_background": "light"
     },
     "output_type": "display_data"
    },
    {
     "name": "stdout",
     "output_type": "stream",
     "text": [
      "The pruned model saved successfully.\n"
     ]
    }
   ],
   "source": [
    "tf.reset_default_graph()\n",
    "batch_size = 60\n",
    "\n",
    "n_batch = mnist.train.num_examples//batch_size\n",
    "\n",
    "#Two placeholder\n",
    "x = tf.placeholder(tf.float32,[None,784])\n",
    "y = tf.placeholder(tf.float32,[None,10])\n",
    "\n",
    "# A simple feed-forward network\n",
    "with tf.variable_scope('myvar',reuse=tf.AUTO_REUSE):\n",
    "\n",
    "    W1 = tf.get_variable(name='W1',initializer=tf.random_normal([784,256])/100)\n",
    "    W2 = tf.get_variable(name='W2',initializer=tf.random_normal([256,100])/100)\n",
    "    W3 = tf.get_variable(name='W3',initializer=tf.random_normal([100,10])/100)\n",
    "\n",
    "    \n",
    "    b1 = tf.get_variable(name= 'b1',initializer=tf.random_normal([256])/100)\n",
    "    b2 = tf.get_variable(name= 'b2',initializer=tf.random_normal([100])/100)\n",
    "    b3 = tf.get_variable(name= 'b3',initializer=tf.random_normal([10])/100)\n",
    "\n",
    "\n",
    "\n",
    "L12 = tf.nn.relu(tf.matmul(x,W1) + b1)\n",
    "L23 = tf.nn.relu(tf.matmul(L12,W2) + b2)\n",
    "prediction = tf.nn.softmax(tf.matmul(L23,W3) + b3)\n",
    "\n",
    "#loss\n",
    "loss = tf.reduce_mean(tf.square(y-prediction))\n",
    "## Gradient decent\n",
    "# train_step = tf.train.GradientDescentOptimizer(learning_rate=0.2).minimize(loss)\n",
    "train_step = tf.train.AdamOptimizer(learning_rate=0.001).minimize(loss)\n",
    "\n",
    "\n",
    "correct_prediction = tf.equal(tf.argmax(y,1),tf.argmax(prediction,1))\n",
    "accuracy = tf.reduce_mean(tf.cast(correct_prediction,tf.float32))\n",
    "saver = tf.train.Saver()\n",
    "\n",
    "print('Number of parameters: {}.\\n'.format(int(number_of_parameters(tf.trainable_variables()))))\n",
    "\n",
    "with tf.Session() as sess:\n",
    "    sess.run(tf.global_variables_initializer())\n",
    "    \n",
    "# #     Weights before training\n",
    "#     print('Weighs before training')\n",
    "#     for v in tf.trainable_variables():\n",
    "#         print(v.shape)\n",
    "#         print(sess.run(v))\n",
    "    \n",
    "    acc = sess.run(accuracy,feed_dict={x:mnist.test.images,y:mnist.test.labels})\n",
    "    print('Test set accuracy before training: ',str(acc))\n",
    "    \n",
    "    for epoch in range(8):\n",
    "        for batch in range(n_batch):\n",
    "            batch_xs,batch_ys = mnist.train.next_batch(batch_size)\n",
    "            sess.run(train_step,feed_dict={x:batch_xs,y:batch_ys})\n",
    "            \n",
    "        print('Epoch', epoch+1)\n",
    "        test_acc = sess.run(accuracy,feed_dict={x:mnist.test.images,y:mnist.test.labels})\n",
    "        print('Test set accuracy: ',str(test_acc))\n",
    "        \n",
    "    saver.save(sess, \"./Model/trained_model.ckpt\")\n",
    "    weights = []\n",
    "    \n",
    "    weights.append(sess.run(W1))\n",
    "    weights.append(sess.run(W2))\n",
    "    weights.append(sess.run(W3))\n",
    "    weights.append(sess.run(b1))\n",
    "    weights.append(sess.run(b2))\n",
    "    weights.append(sess.run(b3))\n",
    "    \n",
    "    #Weight distribution after training and before pruning\n",
    "    print('------------------------------After training without pruning--------------------------------')\n",
    "    plot_histogram(weights,'weight_distribution_beftore_pruning',include_zeros=False)\n",
    "    \n",
    "    ##mask\n",
    "    for weight_matrix,i in zip(weights,tf.trainable_variables()):\n",
    "#         print(sess.run(i))\n",
    "        mask = mask_for_big_values(weight_matrix,0.03)\n",
    "#         print(mask.shape)\n",
    "        sess.run(i.assign(weight_matrix * mask))\n",
    "        \n",
    "    \n",
    "    #Check values of weights\n",
    "#     for v in tf.trainable_variables():\n",
    "#         print(v.shape)\n",
    "#         print(sess.run(v))\n",
    "\n",
    "    weights_pruned = []\n",
    "    \n",
    "    weights_pruned.append(sess.run(W1))\n",
    "    weights_pruned.append(sess.run(W2))\n",
    "    weights_pruned.append(sess.run(W3))\n",
    "    weights_pruned.append(sess.run(b1))\n",
    "    weights_pruned.append(sess.run(b2))\n",
    "    weights_pruned.append(sess.run(b3))\n",
    "    \n",
    "    \n",
    "    #Weights distribution after pruning\n",
    "    print('------------------------------After pruning--------------------------------')\n",
    "    plot_histogram(weights_pruned,'weights_distribution_after_pruning',include_zeros=False)\n",
    "\n",
    "\n",
    "    saver.save(sess, \"./Model/pruned_model_without_fine_tuning.ckpt\")\n",
    "    print(\"The pruned model saved successfully.\")\n",
    "    #Check values of weights\n",
    "#     for v in tf.trainable_variables():\n",
    "#         print(v.shape)\n",
    "#         print(sess.run(v))"
   ]
  },
  {
   "cell_type": "code",
   "execution_count": 74,
   "metadata": {},
   "outputs": [
    {
     "name": "stdout",
     "output_type": "stream",
     "text": [
      "INFO:tensorflow:Restoring parameters from ./Model/pruned_model_without_fine_tuning.ckpt\n",
      "Test set accuracy after pruning without fine-tuning:  0.9773\n"
     ]
    }
   ],
   "source": [
    "#Load the pruned model and inference without fine-tuning.\n",
    "with tf.Session() as sess:\n",
    "    saver.restore(sess, \"./Model/pruned_model_without_fine_tuning.ckpt\")\n",
    "\n",
    "    L12p1 = tf.nn.relu(tf.matmul(x,W1) + b1)\n",
    "    L23p1 = tf.nn.relu(tf.matmul(L12p1,W2) + b2)\n",
    "    prediction1 = tf.nn.softmax(tf.matmul(L23p1,W3) + b3)\n",
    "\n",
    "    correct_prediction1 = tf.equal(tf.argmax(y,1),tf.argmax(prediction1,1))\n",
    "    \n",
    "    accuracy1 = tf.reduce_mean(tf.cast(correct_prediction1,tf.float32))\n",
    "    test_accc = sess.run(accuracy1,feed_dict={x:mnist.test.images,y:mnist.test.labels})\n",
    "    print('Test set accuracy after pruning without fine-tuning: ',str(test_accc))"
   ]
  },
  {
   "cell_type": "code",
   "execution_count": 75,
   "metadata": {},
   "outputs": [],
   "source": [
    "#Functions for learning \n",
    "def _apply_prune_on_grads(grads_and_vars: list,threshold: float):\n",
    "\n",
    "        # we need to make gradients correspondent\n",
    "        # to the pruned weights to be zero\n",
    "\n",
    "    grads_and_vars_sparse = []\n",
    "\n",
    "    for grad, var in grads_and_vars:\n",
    "        if 'weights' in var.name:\n",
    "            small_weights = tf.greater(threshold, tf.abs(var))\n",
    "            mask = tf.cast(tf.logical_not(small_weights), tf.float32)\n",
    "            grad = grad * mask\n",
    "\n",
    "        grads_and_vars_sparse.append((grad, var))\n",
    "               \n",
    "    return grads_and_vars_sparse\n",
    "\n",
    "def _create_optimizer_sparse(loss: tf.Tensor,\n",
    "                                 threshold: float,\n",
    "                                 learning_rate: Union[tf.Tensor, float],\n",
    "                                 momentum: Union[tf.Tensor, float]) -> tf.Operation:\n",
    "\n",
    "    with tf.variable_scope('optimizer'):\n",
    "\n",
    "        optimizer = tf.train.MomentumOptimizer(learning_rate=learning_rate,\n",
    "                                                   momentum=momentum,\n",
    "                                                   name='optimizer')\n",
    "        self.global_step = tf.Variable(0)\n",
    "        grads_and_vars = optimizer.compute_gradients(loss)\n",
    "        grads_and_vars_sparse = self._apply_prune_on_grads(grads_and_vars,\n",
    "                                                               threshold)\n",
    "        train_op = optimizer.apply_gradients(grads_and_vars_sparse,\n",
    "                                                 global_step=self.global_step,\n",
    "                                                 name='train_op')\n",
    "\n",
    "        return train_op"
   ]
  },
  {
   "cell_type": "code",
   "execution_count": 76,
   "metadata": {},
   "outputs": [
    {
     "name": "stdout",
     "output_type": "stream",
     "text": [
      "INFO:tensorflow:Restoring parameters from ./Model/pruned_model_without_fine_tuning.ckpt\n",
      "Epoch 1\n",
      "Test set accuracy:  0.9802\n",
      "Epoch 2\n",
      "Test set accuracy:  0.9806\n",
      "Epoch 3\n",
      "Test set accuracy:  0.9809\n",
      "Epoch 4\n",
      "Test set accuracy:  0.981\n",
      "Epoch 5\n",
      "Test set accuracy:  0.9811\n"
     ]
    },
    {
     "data": {
      "image/png": "[encoded data removed]",
      "text/plain": [
       "<Figure size 720x504 with 1 Axes>"
      ]
     },
     "metadata": {
      "needs_background": "light"
     },
     "output_type": "display_data"
    },
    {
     "name": "stdout",
     "output_type": "stream",
     "text": [
      "The fine-tuned pruned model saved successfully.\n"
     ]
    }
   ],
   "source": [
    "x = tf.placeholder(tf.float32,[None,784])\n",
    "y = tf.placeholder(tf.float32,[None,10])    \n",
    "with tf.variable_scope('op',reuse=tf.AUTO_REUSE):\n",
    "    global_step = tf.get_variable(name='g',shape=[1],dtype=tf.float32,initializer=tf.constant_initializer(0.3))\n",
    "\n",
    "with tf.Session() as sess1:\n",
    "\n",
    "    saver.restore(sess1, \"./Model/pruned_model_without_fine_tuning.ckpt\")\n",
    "    #sess1.run(tf.global_variables_initializer())\n",
    "#     for v in tf.trainable_variables():\n",
    "#         print(v.shape)\n",
    "#         print(sess.run(v))\n",
    "    \n",
    "    \n",
    "    L12 = tf.nn.relu(tf.matmul(x,W1) + b1)\n",
    "    L23 = tf.nn.relu(tf.matmul(L12,W2) + b2)\n",
    "    prediction = tf.nn.softmax(tf.matmul(L23,W3) + b3)\n",
    "    \n",
    "    optimizer = tf.train.GradientDescentOptimizer(learning_rate=0.25)\n",
    "    loss = tf.reduce_mean(tf.square(y-prediction))\n",
    "    \n",
    "    grads_and_vars = optimizer.compute_gradients(loss)\n",
    "#     print(grads_and_vars)\n",
    "    \n",
    "    # to the pruned weights to be zero\n",
    "\n",
    "    grads_and_vars_sparse = []\n",
    "\n",
    "    for grad, var in grads_and_vars:\n",
    "        if 'myvar' in var.name:\n",
    "            small_weights = tf.greater(0.03, tf.abs(var))\n",
    "            mask = tf.cast(tf.logical_not(small_weights), tf.float32)\n",
    "            grad = grad * mask\n",
    "\n",
    "        grads_and_vars_sparse.append((grad, var))\n",
    "#     print(grads_and_vars_sparse)\n",
    "        \n",
    "    train_op = optimizer.apply_gradients(grads_and_vars_sparse)\n",
    "#     print(train_op)\n",
    "    batch_xs,batch_ys = mnist.train.next_batch(batch_size)\n",
    "    correct_prediction1 = tf.equal(tf.argmax(y,1),tf.argmax(prediction,1))\n",
    "    \n",
    "    accuracy1 = tf.reduce_mean(tf.cast(correct_prediction1,tf.float32))\n",
    "    \n",
    "    for epoch in range(5):\n",
    "        for batch in range(n_batch):\n",
    "            batch_xs,batch_ys = mnist.train.next_batch(batch_size)\n",
    "            sess1.run(train_op,feed_dict={x:batch_xs,y:batch_ys})\n",
    "        \n",
    "        print('Epoch', epoch+1)\n",
    "        accc = sess1.run(accuracy1,feed_dict={x:mnist.test.images,y:mnist.test.labels})\n",
    "        print('Test set accuracy: ',str(accc))\n",
    "        \n",
    "    #Fine-tuning pruned model\n",
    "#     for v in tf.trainable_variables():\n",
    "#         print(v.shape)\n",
    "#         print(sess.run(v))\n",
    "    \n",
    "    weightspf = []\n",
    "    \n",
    "    weightspf.append(sess1.run(W1))\n",
    "    weightspf.append(sess1.run(W2))\n",
    "    weightspf.append(sess1.run(W3))\n",
    "    weightspf.append(sess1.run(b1))\n",
    "    weightspf.append(sess1.run(b2))\n",
    "    weightspf.append(sess1.run(b3))    \n",
    "    ## Weight distribution of the fine-tuned pruned model\n",
    "    plot_histogram(weightspf,'Weight_distribution_after_pruning_and_fine-tuning',include_zeros=False)\n",
    "    saver.save(sess1, \"./Model/fine_tuned_pruned_model.ckpt\")\n",
    "    print(\"The fine-tuned pruned model saved successfully.\")"
   ]
  }
 ],
 "metadata": {
  "kernelspec": {
   "display_name": "Python 3",
   "language": "python",
   "name": "python3"
  },
  "language_info": {
   "codemirror_mode": {
    "name": "ipython",
    "version": 3
   },
   "file_extension": ".py",
   "mimetype": "text/x-python",
   "name": "python",
   "nbconvert_exporter": "python",
   "pygments_lexer": "ipython3",
   "version": "3.6.9"
  }
 },
 "nbformat": 4,
 "nbformat_minor": 2
}
