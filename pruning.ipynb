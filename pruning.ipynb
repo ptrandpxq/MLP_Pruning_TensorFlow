{
 "cells": [
  {
   "cell_type": "code",
   "execution_count": 61,
   "metadata": {},
   "outputs": [
    {
     "data": {
      "text/plain": [
       "'1.15.0'"
      ]
     },
     "execution_count": 61,
     "metadata": {},
     "output_type": "execute_result"
    }
   ],
   "source": [
    "import tensorflow as tf\n",
    "from matplotlib import pyplot as plt\n",
    "import numpy as np\n",
    "from typing import Union\n",
    "tf.__version__"
   ]
  },
  {
   "cell_type": "code",
   "execution_count": 62,
   "metadata": {
    "scrolled": false
   },
   "outputs": [],
   "source": [
    "from tensorflow.examples.tutorials.mnist import input_data"
   ]
  },
  {
   "cell_type": "code",
   "execution_count": 63,
   "metadata": {},
   "outputs": [],
   "source": [
    "def plot_histogram(weights_list: list,\n",
    "                   image_name: str,\n",
    "                   include_zeros=True):\n",
    "\n",
    "    \"\"\"A function to plot weights distribution\"\"\"\n",
    "\n",
    "    weights = []\n",
    "    for w in weights_list:\n",
    "        weights.extend(list(w.ravel()))\n",
    "\n",
    "    if not include_zeros:\n",
    "        weights = [w for w in weights if w != 0]\n",
    "\n",
    "    fig = plt.figure(figsize=(10, 7))\n",
    "    ax = fig.add_subplot(111)\n",
    "\n",
    "    ax.hist(weights,\n",
    "            bins=100,\n",
    "            facecolor='green',\n",
    "            edgecolor='black',\n",
    "            alpha=0.7,\n",
    "            range=(-0.3, 0.3))\n",
    "\n",
    "    ax.set_title('Weights distribution')\n",
    "    ax.set_xlabel('Weights values')\n",
    "    ax.set_ylabel('Number of weights')\n",
    "    \n",
    "    plt.show()\n",
    "\n",
    "#     fig.savefig(image_name + '.png')\n",
    "    \n",
    "def number_of_parameters(var_list):\n",
    "    return sum(np.prod(v.get_shape().as_list()) for v in var_list)\n",
    "\n",
    "def mask_for_big_values(weights, pruning_threshold):\n",
    "\n",
    "    small_weights = np.abs(weights) < pruning_threshold\n",
    "    return np.logical_not(small_weights)\n"
   ]
  },
  {
   "cell_type": "code",
   "execution_count": 64,
   "metadata": {},
   "outputs": [
    {
     "name": "stdout",
     "output_type": "stream",
     "text": [
      "Extracting MNIST_data/train-images-idx3-ubyte.gz\n",
      "Extracting MNIST_data/train-labels-idx1-ubyte.gz\n",
      "Extracting MNIST_data/t10k-images-idx3-ubyte.gz\n",
      "Extracting MNIST_data/t10k-labels-idx1-ubyte.gz\n"
     ]
    }
   ],
   "source": [
    "mnist = input_data.read_data_sets('MNIST_data',one_hot=True)"
   ]
  },
  {
   "cell_type": "code",
   "execution_count": 65,
   "metadata": {
    "scrolled": true
   },
   "outputs": [
    {
     "name": "stdout",
     "output_type": "stream",
     "text": [
      "Number of parameters (four bytes == 1 parameter): 535818.\n",
      "\n",
      "Accuracy before training:  0.0892\n",
      "epoch: 1\n",
      "Test set accuracy:  0.1382\n",
      "epoch: 2\n",
      "Test set accuracy:  0.1135\n",
      "epoch: 3\n",
      "Test set accuracy:  0.1135\n",
      "epoch: 4\n",
      "Test set accuracy:  0.1135\n",
      "epoch: 5\n",
      "Test set accuracy:  0.1241\n",
      "epoch: 6\n",
      "Test set accuracy:  0.2255\n",
      "epoch: 7\n",
      "Test set accuracy:  0.3261\n",
      "epoch: 8\n",
      "Test set accuracy:  0.3033\n",
      "epoch: 9\n",
      "Test set accuracy:  0.2759\n",
      "epoch: 10\n",
      "Test set accuracy:  0.3319\n",
      "epoch: 11\n",
      "Test set accuracy:  0.4777\n",
      "epoch: 12\n",
      "Test set accuracy:  0.7237\n",
      "epoch: 13\n",
      "Test set accuracy:  0.796\n",
      "epoch: 14\n",
      "Test set accuracy:  0.8314\n",
      "epoch: 15\n",
      "Test set accuracy:  0.8533\n",
      "---------------------------------------------------\n"
     ]
    },
    {
     "data": {
      "image/png": "[encoded data removed]",
      "text/plain": [
       "<Figure size 720x504 with 1 Axes>"
      ]
     },
     "metadata": {
      "needs_background": "light"
     },
     "output_type": "display_data"
    },
    {
     "name": "stdout",
     "output_type": "stream",
     "text": [
      "---------------------------------------------------\n",
      "after pruning----------------------------------------------------------\n"
     ]
    },
    {
     "data": {
      "image/png": "[encoded data removed]",
      "text/plain": [
       "<Figure size 720x504 with 1 Axes>"
      ]
     },
     "metadata": {
      "needs_background": "light"
     },
     "output_type": "display_data"
    },
    {
     "name": "stdout",
     "output_type": "stream",
     "text": [
      "Success to save the model.\n"
     ]
    }
   ],
   "source": [
    "# tf.reset_default_graph()\n",
    "batch_size = 100\n",
    "\n",
    "n_batch = mnist.train.num_examples//batch_size\n",
    "\n",
    "#Two placeholder\n",
    "x = tf.placeholder(tf.float32,[None,784])\n",
    "y = tf.placeholder(tf.float32,[None,10])\n",
    "\n",
    "#Nural network\n",
    "with tf.variable_scope('myvar',reuse=tf.AUTO_REUSE):\n",
    "\n",
    "    W1 = tf.get_variable(name='W1',initializer=tf.random_normal([784,256])/100)\n",
    "    W2 = tf.get_variable(name='W2',initializer=tf.random_normal([256,100])/100)\n",
    "    W3 = tf.get_variable(name='W3',initializer=tf.random_normal([256,10])/100)\n",
    "\n",
    "    \n",
    "    b1 = tf.get_variable(name= 'b1',initializer=tf.random_normal([256])/100)\n",
    "    b2 = tf.get_variable(name= 'b2',initializer=tf.random_normal([100])/100)\n",
    "    b3 = tf.get_variable(name= 'b3',initializer=tf.random_normal([10])/100)\n",
    "\n",
    "\n",
    "\n",
    "L12 = tf.nn.relu(tf.matmul(x,W1)+b1)\n",
    "L23 = tf.nn.relu(tf.matmul(L12,W2)+b2)\n",
    "prediction = tf.nn.softmax(tf.matmul(L23,W3)+b3)\n",
    "\n",
    "#loss\n",
    "loss = tf.reduce_mean(tf.square(y-prediction))\n",
    "#Gradient decent\n",
    "train_step = tf.train.GradientDescentOptimizer(learning_rate=0.15).minimize(loss)\n",
    "\n",
    "\n",
    "correct_prediction = tf.equal(tf.argmax(y,1),tf.argmax(prediction,1))\n",
    "accuracy = tf.reduce_mean(tf.cast(correct_prediction,tf.float32))\n",
    "saver = tf.train.Saver()\n",
    "\n",
    "print('Number of parameters (four bytes == 1 parameter): {}.\\n'.format(int(number_of_parameters(tf.trainable_variables()))))\n",
    "\n",
    "with tf.Session() as sess:\n",
    "    sess.run(tf.global_variables_initializer())\n",
    "    \n",
    "    # Weighs before training\n",
    "#     print('Weighs before training')\n",
    "#     for v in tf.trainable_variables():\n",
    "#         print(v.shape)\n",
    "#         print(sess.run(v))\n",
    "\n",
    "\n",
    "    \n",
    "    acc = sess.run(accuracy,feed_dict={x:mnist.test.images,y:mnist.test.labels})\n",
    "    print('Accuracy before training: ',str(acc))\n",
    "    \n",
    "    for epoch in range(15):\n",
    "        for batch in range(n_batch):\n",
    "            batch_xs,batch_ys = mnist.train.next_batch(batch_size)\n",
    "            sess.run(train_step,feed_dict={x:batch_xs,y:batch_ys})\n",
    "            \n",
    "        print('epoch:',epoch+1)\n",
    "        test_acc = sess.run(accuracy,feed_dict={x:mnist.test.images,y:mnist.test.labels})\n",
    "        print('Test set accuracy: ',str(test_acc))\n",
    "        \n",
    "        \n",
    "    weights = []\n",
    "    \n",
    "    weights.append(sess.run(W1))\n",
    "    weights.append(sess.run(W2))\n",
    "    weights.append(sess.run(W3))\n",
    "    weights.append(sess.run(b1))\n",
    "    weights.append(sess.run(b2))\n",
    "    weights.append(sess.run(b3))\n",
    "    \n",
    "    #Weights distribution before pruning\n",
    "    print('---------------------------------------------------')\n",
    "    plot_histogram(weights,'weights_distribution_after_pruning',include_zeros=False)\n",
    "    print('---------------------------------------------------')\n",
    "    \n",
    "    \n",
    "    \n",
    "\n",
    "    \n",
    "    #mask\n",
    "    for weight_matrix,i in zip(weights,tf.trainable_variables()):\n",
    "        #print(sess.run(i))\n",
    "        mask = mask_for_big_values(weight_matrix,0.03)\n",
    "        #print(mask.shape)\n",
    "        sess.run(i.assign(weight_matrix * mask))\n",
    "        \n",
    "        \n",
    "    print('after pruning----------------------------------------------------------')\n",
    "    \n",
    "    #See value of weights\n",
    "#     for v in tf.trainable_variables():\n",
    "#         print(v.shape)\n",
    "#         print(sess.run(v))\n",
    "\n",
    "    weightsp = []\n",
    "    \n",
    "    weightsp.append(sess.run(W1))\n",
    "    weightsp.append(sess.run(W2))\n",
    "    weightsp.append(sess.run(W3))\n",
    "    weightsp.append(sess.run(b1))\n",
    "    weightsp.append(sess.run(b2))\n",
    "    weightsp.append(sess.run(b3))\n",
    "    \n",
    "    #Weights distribution after pruning\n",
    "    plot_histogram(weightsp,'weights_distribution_after_pruning',include_zeros=False)\n",
    "\n",
    "        \n",
    "    saver.save(sess, \"./Model/model.ckpt\")\n",
    "    print(\"Success to save the model.\")\n",
    "    #See value of weights\n",
    "#     for v in tf.trainable_variables():\n",
    "#         print(v.shape)\n",
    "#         print(sess.run(v))\n",
    "    "
   ]
  },
  {
   "cell_type": "code",
   "execution_count": 66,
   "metadata": {},
   "outputs": [
    {
     "name": "stdout",
     "output_type": "stream",
     "text": [
      "INFO:tensorflow:Restoring parameters from ./Model/model.ckpt\n",
      "Test accuracy after pruning without fine-tuning:  0.6784\n"
     ]
    }
   ],
   "source": [
    "#Load the model and inference without fine-tuning.\n",
    "with tf.Session() as sess:\n",
    "    saver.restore(sess, \"./Model/model.ckpt\") # 注意此处路径前添加\"./\"\n",
    "\n",
    "\n",
    "    L12p1 = tf.nn.relu(tf.matmul(x,W1)+b1)\n",
    "    L23p1 = tf.nn.relu(tf.matmul(L12p1,W2)+b2)\n",
    "    prediction1 = tf.nn.softmax(tf.matmul(L23p1,W3)+b3)\n",
    "\n",
    "    correct_prediction1 = tf.equal(tf.argmax(y,1),tf.argmax(prediction1,1))\n",
    "    \n",
    "    accuracy1 = tf.reduce_mean(tf.cast(correct_prediction1,tf.float32))\n",
    "    test_accc = sess.run(accuracy1,feed_dict={x:mnist.test.images,y:mnist.test.labels})\n",
    "    print('Test accuracy after pruning without fine-tuning: ',str(test_accc))"
   ]
  }
 ],
 "metadata": {
  "kernelspec": {
   "display_name": "Python 3",
   "language": "python",
   "name": "python3"
  },
  "language_info": {
   "codemirror_mode": {
    "name": "ipython",
    "version": 3
   },
   "file_extension": ".py",
   "mimetype": "text/x-python",
   "name": "python",
   "nbconvert_exporter": "python",
   "pygments_lexer": "ipython3",
   "version": "3.6.9"
  }
 },
 "nbformat": 4,
 "nbformat_minor": 2
}
