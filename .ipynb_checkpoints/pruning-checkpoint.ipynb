{
 "cells": [
  {
   "cell_type": "code",
   "execution_count": 17,
   "metadata": {},
   "outputs": [
    {
     "data": {
      "text/plain": [
       "'1.15.0'"
      ]
     },
     "execution_count": 17,
     "metadata": {},
     "output_type": "execute_result"
    }
   ],
   "source": [
    "import tensorflow as tf\n",
    "from matplotlib import pyplot as plt\n",
    "import numpy as np\n",
    "from typing import Union\n",
    "tf.__version__"
   ]
  },
  {
   "cell_type": "code",
   "execution_count": 18,
   "metadata": {
    "scrolled": false
   },
   "outputs": [],
   "source": [
    "from tensorflow.examples.tutorials.mnist import input_data"
   ]
  },
  {
   "cell_type": "code",
   "execution_count": 19,
   "metadata": {},
   "outputs": [],
   "source": [
    "def plot_histogram(weights_list: list,\n",
    "                   image_name: str,\n",
    "                   include_zeros=True):\n",
    "\n",
    "    \"\"\"A function to plot weights distribution\"\"\"\n",
    "\n",
    "    weights = []\n",
    "    for w in weights_list:\n",
    "        weights.extend(list(w.ravel()))\n",
    "\n",
    "    if not include_zeros:\n",
    "        weights = [w for w in weights if w != 0]\n",
    "\n",
    "    fig = plt.figure(figsize=(10, 7))\n",
    "    ax = fig.add_subplot(111)\n",
    "\n",
    "    ax.hist(weights,\n",
    "            bins=100,\n",
    "            facecolor='green',\n",
    "            edgecolor='black',\n",
    "            alpha=0.7,\n",
    "            range=(-0.3, 0.3))\n",
    "\n",
    "    ax.set_title('Weights distribution')\n",
    "    ax.set_xlabel('Weights values')\n",
    "    ax.set_ylabel('Number of weights')\n",
    "    \n",
    "    plt.show()\n",
    "\n",
    "#     fig.savefig(image_name + '.png')\n",
    "    \n",
    "def number_of_parameters(var_list):\n",
    "    return sum(np.prod(v.get_shape().as_list()) for v in var_list)\n",
    "\n",
    "def mask_for_big_values(weights, pruning_threshold):\n",
    "\n",
    "    small_weights = np.abs(weights) < pruning_threshold\n",
    "    return np.logical_not(small_weights)\n"
   ]
  },
  {
   "cell_type": "code",
   "execution_count": 20,
   "metadata": {},
   "outputs": [
    {
     "name": "stdout",
     "output_type": "stream",
     "text": [
      "Extracting MNIST_data/train-images-idx3-ubyte.gz\n",
      "Extracting MNIST_data/train-labels-idx1-ubyte.gz\n",
      "Extracting MNIST_data/t10k-images-idx3-ubyte.gz\n",
      "Extracting MNIST_data/t10k-labels-idx1-ubyte.gz\n"
     ]
    }
   ],
   "source": [
    "mnist = input_data.read_data_sets('MNIST_data',one_hot=True)"
   ]
  },
  {
   "cell_type": "code",
   "execution_count": 27,
   "metadata": {
    "scrolled": true
   },
   "outputs": [
    {
     "name": "stdout",
     "output_type": "stream",
     "text": [
      "Number of parameters (four bytes == 1 parameter): 227670.\n",
      "\n",
      "Accuracy before training:  0.0974\n",
      "epoch: 1\n",
      "Test set accuracy:  0.9315\n",
      "epoch: 2\n",
      "Test set accuracy:  0.9577\n",
      "epoch: 3\n",
      "Test set accuracy:  0.9681\n",
      "epoch: 4\n",
      "Test set accuracy:  0.9681\n",
      "epoch: 5\n",
      "Test set accuracy:  0.9732\n",
      "epoch: 6\n",
      "Test set accuracy:  0.9746\n",
      "epoch: 7\n",
      "Test set accuracy:  0.9783\n",
      "epoch: 8\n",
      "Test set accuracy:  0.9758\n",
      "---------------------------------------------------\n"
     ]
    },
    {
     "data": {
      "image/png": "[encoded data removed]",
      "text/plain": [
       "<Figure size 720x504 with 1 Axes>"
      ]
     },
     "metadata": {
      "needs_background": "light"
     },
     "output_type": "display_data"
    },
    {
     "name": "stdout",
     "output_type": "stream",
     "text": [
      "---------------------------------------------------\n",
      "after pruning----------------------------------------------------------\n"
     ]
    },
    {
     "data": {
      "image/png": "[encoded data removed]",
      "text/plain": [
       "<Figure size 720x504 with 1 Axes>"
      ]
     },
     "metadata": {
      "needs_background": "light"
     },
     "output_type": "display_data"
    },
    {
     "name": "stdout",
     "output_type": "stream",
     "text": [
      "Success to save the model.\n"
     ]
    }
   ],
   "source": [
    "tf.reset_default_graph()\n",
    "batch_size = 60\n",
    "\n",
    "n_batch = mnist.train.num_examples//batch_size\n",
    "\n",
    "#Two placeholder\n",
    "x = tf.placeholder(tf.float32,[None,784])\n",
    "y = tf.placeholder(tf.float32,[None,10])\n",
    "\n",
    "#Nural network\n",
    "with tf.variable_scope('myvar',reuse=tf.AUTO_REUSE):\n",
    "\n",
    "    W1 = tf.get_variable(name='W1',initializer=tf.random_normal([784,256])/100)\n",
    "    W2 = tf.get_variable(name='W2',initializer=tf.random_normal([256,100])/100)\n",
    "    W3 = tf.get_variable(name='W3',initializer=tf.random_normal([100,10])/100)\n",
    "\n",
    "    \n",
    "    b1 = tf.get_variable(name= 'b1',initializer=tf.random_normal([256])/100)\n",
    "    b2 = tf.get_variable(name= 'b2',initializer=tf.random_normal([100])/100)\n",
    "    b3 = tf.get_variable(name= 'b3',initializer=tf.random_normal([10])/100)\n",
    "\n",
    "\n",
    "\n",
    "L12 = tf.nn.relu(tf.matmul(x,W1)+b1)\n",
    "L23 = tf.nn.relu(tf.matmul(L12,W2)+b2)\n",
    "prediction = tf.nn.softmax(tf.matmul(L23,W3)+b3)\n",
    "\n",
    "#loss\n",
    "loss = tf.reduce_mean(tf.square(y-prediction))\n",
    "#Gradient decent\n",
    "# train_step = tf.train.GradientDescentOptimizer(learning_rate=0.2).minimize(loss)\n",
    "train_step = tf.train.AdamOptimizer(learning_rate=0.001).minimize(loss)\n",
    "\n",
    "\n",
    "correct_prediction = tf.equal(tf.argmax(y,1),tf.argmax(prediction,1))\n",
    "accuracy = tf.reduce_mean(tf.cast(correct_prediction,tf.float32))\n",
    "saver = tf.train.Saver()\n",
    "\n",
    "print('Number of parameters (four bytes == 1 parameter): {}.\\n'.format(int(number_of_parameters(tf.trainable_variables()))))\n",
    "\n",
    "with tf.Session() as sess:\n",
    "    sess.run(tf.global_variables_initializer())\n",
    "    \n",
    "    # Weighs before training\n",
    "#     print('Weighs before training')\n",
    "#     for v in tf.trainable_variables():\n",
    "#         print(v.shape)\n",
    "#         print(sess.run(v))\n",
    "\n",
    "\n",
    "    \n",
    "    acc = sess.run(accuracy,feed_dict={x:mnist.test.images,y:mnist.test.labels})\n",
    "    print('Accuracy before training: ',str(acc))\n",
    "    \n",
    "    for epoch in range(8):\n",
    "        for batch in range(n_batch):\n",
    "            batch_xs,batch_ys = mnist.train.next_batch(batch_size)\n",
    "            sess.run(train_step,feed_dict={x:batch_xs,y:batch_ys})\n",
    "            \n",
    "        print('epoch:',epoch+1)\n",
    "        test_acc = sess.run(accuracy,feed_dict={x:mnist.test.images,y:mnist.test.labels})\n",
    "        print('Test set accuracy: ',str(test_acc))\n",
    "        \n",
    "    saver.save(sess, \"./Model/trained_model.ckpt\")\n",
    "    weights = []\n",
    "    \n",
    "    weights.append(sess.run(W1))\n",
    "    weights.append(sess.run(W2))\n",
    "    weights.append(sess.run(W3))\n",
    "    weights.append(sess.run(b1))\n",
    "    weights.append(sess.run(b2))\n",
    "    weights.append(sess.run(b3))\n",
    "    \n",
    "    #Weights distribution before pruning\n",
    "    print('---------------------------------------------------')\n",
    "    plot_histogram(weights,'weights_distribution_after_pruning',include_zeros=False)\n",
    "    print('---------------------------------------------------')\n",
    "    \n",
    "    \n",
    "    \n",
    "\n",
    "    \n",
    "    #mask\n",
    "    for weight_matrix,i in zip(weights,tf.trainable_variables()):\n",
    "        #print(sess.run(i))\n",
    "        mask = mask_for_big_values(weight_matrix,0.03)\n",
    "        #print(mask.shape)\n",
    "        sess.run(i.assign(weight_matrix * mask))\n",
    "        \n",
    "        \n",
    "    print('after pruning----------------------------------------------------------')\n",
    "    \n",
    "    #See value of weights\n",
    "#     for v in tf.trainable_variables():\n",
    "#         print(v.shape)\n",
    "#         print(sess.run(v))\n",
    "\n",
    "    weightsp = []\n",
    "    \n",
    "    weightsp.append(sess.run(W1))\n",
    "    weightsp.append(sess.run(W2))\n",
    "    weightsp.append(sess.run(W3))\n",
    "    weightsp.append(sess.run(b1))\n",
    "    weightsp.append(sess.run(b2))\n",
    "    weightsp.append(sess.run(b3))\n",
    "    \n",
    "    #Weights distribution after pruning\n",
    "    plot_histogram(weightsp,'weights_distribution_after_pruning',include_zeros=False)\n",
    "\n",
    "        \n",
    "    saver.save(sess, \"./Model/pruned_model_without_fine_tuning.ckpt\")\n",
    "    print(\"Success to save the model.\")\n",
    "    #See value of weights\n",
    "#     for v in tf.trainable_variables():\n",
    "#         print(v.shape)\n",
    "#         print(sess.run(v))\n",
    "    "
   ]
  },
  {
   "cell_type": "code",
   "execution_count": 28,
   "metadata": {},
   "outputs": [
    {
     "name": "stdout",
     "output_type": "stream",
     "text": [
      "INFO:tensorflow:Restoring parameters from ./Model/pruned_model_without_fine_tuning.ckpt\n",
      "Test accuracy after pruning without fine-tuning:  0.9767\n"
     ]
    }
   ],
   "source": [
    "#Load the model and inference without fine-tuning.\n",
    "with tf.Session() as sess:\n",
    "    saver.restore(sess, \"./Model/pruned_model_without_fine_tuning.ckpt\") # 注意此处路径前添加\"./\"\n",
    "\n",
    "\n",
    "    L12p1 = tf.nn.relu(tf.matmul(x,W1)+b1)\n",
    "    L23p1 = tf.nn.relu(tf.matmul(L12p1,W2)+b2)\n",
    "    prediction1 = tf.nn.softmax(tf.matmul(L23p1,W3)+b3)\n",
    "\n",
    "    correct_prediction1 = tf.equal(tf.argmax(y,1),tf.argmax(prediction1,1))\n",
    "    \n",
    "    accuracy1 = tf.reduce_mean(tf.cast(correct_prediction1,tf.float32))\n",
    "    test_accc = sess.run(accuracy1,feed_dict={x:mnist.test.images,y:mnist.test.labels})\n",
    "    print('Test accuracy after pruning without fine-tuning: ',str(test_accc))"
   ]
  },
  {
   "cell_type": "code",
   "execution_count": 29,
   "metadata": {},
   "outputs": [],
   "source": [
    "#Functions for learning \n",
    "def _apply_prune_on_grads(grads_and_vars: list,threshold: float):\n",
    "\n",
    "        # we need to make gradients correspondent\n",
    "        # to the pruned weights to be zero\n",
    "\n",
    "    grads_and_vars_sparse = []\n",
    "\n",
    "    for grad, var in grads_and_vars:\n",
    "        if 'weights' in var.name:\n",
    "            small_weights = tf.greater(threshold, tf.abs(var))\n",
    "            mask = tf.cast(tf.logical_not(small_weights), tf.float32)\n",
    "            grad = grad * mask\n",
    "\n",
    "        grads_and_vars_sparse.append((grad, var))\n",
    "               \n",
    "    return grads_and_vars_sparse\n",
    "\n",
    "def _create_optimizer_sparse(loss: tf.Tensor,\n",
    "                                 threshold: float,\n",
    "                                 learning_rate: Union[tf.Tensor, float],\n",
    "                                 momentum: Union[tf.Tensor, float]) -> tf.Operation:\n",
    "\n",
    "    with tf.variable_scope('optimizer'):\n",
    "\n",
    "        optimizer = tf.train.MomentumOptimizer(learning_rate=learning_rate,\n",
    "                                                   momentum=momentum,\n",
    "                                                   name='optimizer')\n",
    "        self.global_step = tf.Variable(0)\n",
    "        grads_and_vars = optimizer.compute_gradients(loss)\n",
    "        grads_and_vars_sparse = self._apply_prune_on_grads(grads_and_vars,\n",
    "                                                               threshold)\n",
    "        train_op = optimizer.apply_gradients(grads_and_vars_sparse,\n",
    "                                                 global_step=self.global_step,\n",
    "                                                 name='train_op')\n",
    "\n",
    "        return train_op"
   ]
  },
  {
   "cell_type": "code",
   "execution_count": 16,
   "metadata": {},
   "outputs": [
    {
     "name": "stdout",
     "output_type": "stream",
     "text": [
      "INFO:tensorflow:Restoring parameters from ./Model/model.ckpt\n",
      "weights\n",
      "weights\n",
      "weights\n",
      "weights\n",
      "weights\n",
      "weights\n",
      "[(<tf.Tensor 'mul_6:0' shape=(784, 256) dtype=float32>, <tf.Variable 'myvar/W1:0' shape=(784, 256) dtype=float32_ref>), (<tf.Tensor 'mul_7:0' shape=(256, 100) dtype=float32>, <tf.Variable 'myvar/W2:0' shape=(256, 100) dtype=float32_ref>), (<tf.Tensor 'mul_8:0' shape=(100, 10) dtype=float32>, <tf.Variable 'myvar/W3:0' shape=(100, 10) dtype=float32_ref>), (<tf.Tensor 'mul_9:0' shape=(256,) dtype=float32>, <tf.Variable 'myvar/b1:0' shape=(256,) dtype=float32_ref>), (<tf.Tensor 'mul_10:0' shape=(100,) dtype=float32>, <tf.Variable 'myvar/b2:0' shape=(100,) dtype=float32_ref>), (<tf.Tensor 'mul_11:0' shape=(10,) dtype=float32>, <tf.Variable 'myvar/b3:0' shape=(10,) dtype=float32_ref>), (None, <tf.Variable 'op/g:0' shape=(1,) dtype=float32_ref>)]\n",
      "name: \"GradientDescent_2\"\n",
      "op: \"NoOp\"\n",
      "input: \"^GradientDescent_2/update_myvar/W1/ApplyGradientDescent\"\n",
      "input: \"^GradientDescent_2/update_myvar/W2/ApplyGradientDescent\"\n",
      "input: \"^GradientDescent_2/update_myvar/W3/ApplyGradientDescent\"\n",
      "input: \"^GradientDescent_2/update_myvar/b1/ApplyGradientDescent\"\n",
      "input: \"^GradientDescent_2/update_myvar/b2/ApplyGradientDescent\"\n",
      "input: \"^GradientDescent_2/update_myvar/b3/ApplyGradientDescent\"\n",
      "\n",
      "epoch: 1 train accc: 0.29047272 acc 0.2914\n",
      "epoch: 2 train accc: 0.32434544 acc 0.3268\n",
      "epoch: 3 train accc: 0.42078182 acc 0.4259\n",
      "epoch: 4 train accc: 0.45574546 acc 0.462\n",
      "epoch: 5 train accc: 0.49832729 acc 0.5054\n",
      "epoch: 6 train accc: 0.5298182 acc 0.5421\n",
      "epoch: 7 train accc: 0.5588727 acc 0.5679\n",
      "epoch: 8 train accc: 0.59443635 acc 0.6003\n",
      "epoch: 9 train accc: 0.61667275 acc 0.6196\n",
      "epoch: 10 train accc: 0.63510907 acc 0.6419\n",
      "epoch: 11 train accc: 0.6508 acc 0.6628\n",
      "epoch: 12 train accc: 0.66670907 acc 0.6767\n",
      "epoch: 13 train accc: 0.6835273 acc 0.6934\n",
      "epoch: 14 train accc: 0.69943637 acc 0.7098\n",
      "epoch: 15 train accc: 0.7144909 acc 0.7221\n"
     ]
    },
    {
     "data": {
      "image/png": "[encoded data removed]",
      "text/plain": [
       "<Figure size 720x504 with 1 Axes>"
      ]
     },
     "metadata": {
      "needs_background": "light"
     },
     "output_type": "display_data"
    }
   ],
   "source": [
    "x = tf.placeholder(tf.float32,[None,784])\n",
    "y = tf.placeholder(tf.float32,[None,10])    \n",
    "with tf.variable_scope('op',reuse=tf.AUTO_REUSE):\n",
    "    \n",
    "    global_step = tf.get_variable(name='g',shape=[1],dtype=tf.float32,initializer=tf.constant_initializer(0.3))\n",
    "with tf.Session() as sess1:\n",
    "    \n",
    "    saver.restore(sess1, \"./Model/pruned_model_without_fine_tuning.ckpt\")\n",
    "    \n",
    "    #sess1.run(tf.global_variables_initializer())\n",
    "#     for v in tf.trainable_variables():\n",
    "#         print(v.shape)\n",
    "#         print(sess.run(v))\n",
    "    \n",
    "    \n",
    "    \n",
    "    L12 = tf.nn.relu(tf.matmul(x,W1)+b1)\n",
    "    L23 = tf.nn.relu(tf.matmul(L12,W2)+b2)\n",
    "    prediction = tf.nn.softmax(tf.matmul(L23,W3)+b3)\n",
    "    \n",
    "   \n",
    "\n",
    "    optimizer = tf.train.GradientDescentOptimizer(learning_rate=0.25)\n",
    "    loss = tf.reduce_mean(tf.square(y-prediction))\n",
    "    \n",
    "    grads_and_vars = optimizer.compute_gradients(loss)\n",
    "    #print(grads_and_vars)\n",
    "    \n",
    "    \n",
    "    # to the pruned weights to be zero\n",
    "\n",
    "    grads_and_vars_sparse = []\n",
    "\n",
    "    for grad, var in grads_and_vars:\n",
    "        if 'myvar' in var.name:\n",
    "            small_weights = tf.greater(0.03, tf.abs(var))\n",
    "            mask = tf.cast(tf.logical_not(small_weights), tf.float32)\n",
    "            grad = grad * mask\n",
    "\n",
    "        grads_and_vars_sparse.append((grad, var))\n",
    "    print(grads_and_vars_sparse)\n",
    "        \n",
    "    train_op = optimizer.apply_gradients(grads_and_vars_sparse)\n",
    "#     print(train_op)\n",
    "    batch_xs,batch_ys = mnist.train.next_batch(batch_size)\n",
    "    correct_prediction1 = tf.equal(tf.argmax(y,1),tf.argmax(prediction,1))\n",
    "    \n",
    "    accuracy1 = tf.reduce_mean(tf.cast(correct_prediction1,tf.float32))\n",
    "    \n",
    "    for epoch in range(10):\n",
    "        for batch in range(n_batch):\n",
    "            batch_xs,batch_ys = mnist.train.next_batch(batch_size)\n",
    "            sess1.run(train_op,feed_dict={x:batch_xs,y:batch_ys})        \n",
    "\n",
    "        accc = sess1.run(accuracy1,feed_dict={x:mnist.test.images,y:mnist.test.labels})\n",
    "        print('epoch:',epoch+1,'Test acc: ',str(accc))\n",
    "    #Fine-tuning pruned model\n",
    "#     for v in tf.trainable_variables():\n",
    "#         print(v.shape)\n",
    "#         print(sess.run(v))\n",
    "    \n",
    "    weightspf = []\n",
    "    \n",
    "    weightspf.append(sess1.run(W1))\n",
    "    weightspf.append(sess1.run(W2))\n",
    "    weightspf.append(sess1.run(W3))\n",
    "    weightspf.append(sess1.run(b1))\n",
    "    weightspf.append(sess1.run(b2))\n",
    "    weightspf.append(sess1.run(b3))    \n",
    "    #after pruning\n",
    "    plot_histogram(weightspf,'weights_distribution_after_pruning',include_zeros=False)"
   ]
  },
  {
   "cell_type": "code",
   "execution_count": null,
   "metadata": {},
   "outputs": [],
   "source": []
  }
 ],
 "metadata": {
  "kernelspec": {
   "display_name": "Python 3",
   "language": "python",
   "name": "python3"
  },
  "language_info": {
   "codemirror_mode": {
    "name": "ipython",
    "version": 3
   },
   "file_extension": ".py",
   "mimetype": "text/x-python",
   "name": "python",
   "nbconvert_exporter": "python",
   "pygments_lexer": "ipython3",
   "version": "3.6.9"
  }
 },
 "nbformat": 4,
 "nbformat_minor": 2
}
